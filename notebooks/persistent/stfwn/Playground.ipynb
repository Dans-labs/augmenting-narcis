{
 "cells": [
  {
   "cell_type": "code",
   "execution_count": 1,
   "metadata": {},
   "outputs": [],
   "source": [
    "import re\n",
    "from pymongo import MongoClient\n",
    "from elasticsearch import Elasticsearch\n",
    "from habanero import Crossref, counts, cn\n",
    "import pandas as pd\n",
    "import matplotlib.pyplot as plt\n",
    "from matplotlib.ticker import FuncFormatter"
   ]
  },
  {
   "cell_type": "markdown",
   "metadata": {},
   "source": [
    "Connect to MongoDB."
   ]
  },
  {
   "cell_type": "code",
   "execution_count": 2,
   "metadata": {},
   "outputs": [],
   "source": [
    "client = MongoClient('mongo')\n",
    "metadatadb = client.get_database('narcis')\n",
    "metacollection = metadatadb.data"
   ]
  },
  {
   "cell_type": "markdown",
   "metadata": {},
   "source": [
    "Connect to local/DANS Elasticsearch."
   ]
  },
  {
   "cell_type": "code",
   "execution_count": 20,
   "metadata": {},
   "outputs": [],
   "source": [
    "es_host = \"es0:9200\"\n",
    "es_local = Elasticsearch([es_host])\n",
    "#searchindex = 'narcis'\n",
    "#doctype = 'metadata'\n",
    "es = es_local"
   ]
  },
  {
   "cell_type": "markdown",
   "metadata": {},
   "source": [
    "Play with the data."
   ]
  },
  {
   "cell_type": "code",
   "execution_count": 22,
   "metadata": {},
   "outputs": [
    {
     "name": "stdout",
     "output_type": "stream",
     "text": [
      "{'_id': ObjectId('5cfe5f4841cf9e280bf67348'), 'publisher': ['CentERdata, Tilburg University'], 'description': ['Since 1993, CentERdata annually collects economic data through a panel that consists of some two thousand households. The purpose of this DNB Household Survey (formerly known as CentER Savings Survey) is to study the economic and psychological determinants of the saving behavior of households. The data are collected through the CentERpanel, which collects data every week on various topics.\\nNot all Dutch people have computers with Internet access, nor do the panel members. Households without a computer and/or Internet access are given the use of a simple computer and Internet access.'], 'language': [], 'format': [], 'type': [], 'rights': ['Access is limited to registered members', 'info:eu-repo/semantics/openAccess'], 'date': ['2014-05-14'], 'datestamp': '2017-08-30 09:24:43', 'relation': [], 'source': [], 'coverage': [], 'contributor': [], 'title': ['DNB Household Survey (DHS) | 1993 - present'], 'identifier': ['https://www.dhsdata.nl/site/releases/browse/24'], 'creator': ['Streefkerk', 'drs. M.IJ.C. (CentERdata - Tilburg University)'], 'id': 'dhs:oai:nkodata.nl:24', 'subject': []}\n"
     ]
    },
    {
     "data": {
      "text/plain": [
       "[]"
      ]
     },
     "execution_count": 22,
     "metadata": {},
     "output_type": "execute_result"
    }
   ],
   "source": [
    "ID = 'dhs:oai:nkodata.nl:24'\n",
    "x = metacollection.find({'id': ID})\n",
    "for item in x:\n",
    "    print(item)\n",
    "\n",
    "res = es.search(body={\"query\": {\"match\": {'id': \"%s\" % ID }}})\n",
    "res['hits']['hits']"
   ]
  },
  {
   "cell_type": "code",
   "execution_count": 5,
   "metadata": {},
   "outputs": [
    {
     "name": "stdout",
     "output_type": "stream",
     "text": [
      "['Ethnozentrismus'] [{'given': 'Thomas Hylland', 'family': 'Eriksen', 'sequence': 'first', 'affiliation': []}]\n",
      "---\n",
      "['Nationalismus'] [{'given': 'Thomas', 'family': 'Hylland Eriksen', 'sequence': 'first', 'affiliation': []}]\n",
      "---\n",
      "['What is Anthropology?'] [{'given': 'Thomas Hylland', 'family': 'Eriksen', 'sequence': 'first', 'affiliation': []}]\n",
      "---\n",
      "['Anthropology as counter-culture: an interview with Thomas Hylland Eriksen'] [{'given': 'Thomas Hylland', 'family': 'Eriksen', 'sequence': 'first', 'affiliation': [{'name': 'Department of Social Anthropology; University of Oslo, PO Box 1091 Blindern, N-0317 Oslo Norway'}]}, {'given': 'Felix', 'family': 'Stein', 'sequence': 'additional', 'affiliation': [{'name': 'Division of Social Anthropology; Free School Lane; Cambridge CB2 3RF UK'}]}]\n",
      "---\n",
      "['Economies of Ethnicity'] [{'given': 'Thomas', 'family': 'Hylland Eriksen', 'sequence': 'first', 'affiliation': []}]\n",
      "---\n",
      "['Means of Communication'] [{'given': 'Thomas Hylland', 'family': 'Eriksen', 'sequence': 'first', 'affiliation': []}]\n",
      "---\n",
      "['Economies of Ethnicity'] [{'given': 'Thomas', 'family': 'Hylland Eriksen', 'sequence': 'first', 'affiliation': []}]\n",
      "---\n",
      "['Globalization'] [{'given': 'Thomas Hylland', 'family': 'Eriksen', 'sequence': 'first', 'affiliation': []}]\n",
      "---\n",
      "['The Public Sphere and the Dialectics of Globalization'] [{'given': 'Thomas Hylland', 'family': 'Eriksen', 'sequence': 'first', 'affiliation': []}]\n",
      "---\n",
      "['Round-table Discussion Led by Thomas Hylland Eriksen'] [{'given': 'Oscar', 'family': 'Hemer', 'sequence': 'first', 'affiliation': []}]\n",
      "---\n",
      "['Ethnicity'] [{'given': 'Thomas Hylland', 'family': 'Eriksen', 'sequence': 'first', 'affiliation': []}]\n",
      "---\n",
      "['Nationalism'] [{'given': 'Thomas Hylland', 'family': 'Eriksen', 'sequence': 'first', 'affiliation': []}]\n",
      "---\n",
      "['Boomtown'] [{'given': 'Thomas Hylland', 'family': 'Eriksen', 'sequence': 'first', 'affiliation': []}]\n",
      "---\n",
      "['Ethnicity and Nationalism'] [{'given': 'Thomas Hylland', 'family': 'Eriksen', 'sequence': 'first', 'affiliation': []}]\n",
      "---\n",
      "['A History of Anthropology'] [{'given': 'Thomas Hylland', 'family': 'Eriksen', 'sequence': 'first', 'affiliation': []}, {'given': 'Finn Sivert', 'family': 'Nielsen', 'sequence': 'additional', 'affiliation': []}]\n",
      "---\n",
      "['Fredrik Barth'] [{'given': 'Thomas Hylland', 'family': 'Eriksen', 'sequence': 'first', 'affiliation': []}]\n",
      "---\n",
      "['INTRODUCTION'] [{'given': 'Thomas Hylland', 'family': 'Eriksen', 'sequence': 'first', 'affiliation': []}]\n",
      "---\n",
      "['Afterword'] [{'given': 'Thomas Hylland', 'family': 'Eriksen', 'sequence': 'first', 'affiliation': []}]\n",
      "---\n"
     ]
    }
   ],
   "source": [
    "cr = Crossref()\n",
    "x = cr.works(query = \"thomas eriksen\")\n",
    "for item in x['message']['items']:\n",
    "    try:\n",
    "        author = item['author']\n",
    "        print(item['title'], author)\n",
    "        print('---')\n",
    "    except:\n",
    "        pass"
   ]
  },
  {
   "cell_type": "code",
   "execution_count": null,
   "metadata": {},
   "outputs": [],
   "source": []
  }
 ],
 "metadata": {
  "kernelspec": {
   "display_name": "Python 3",
   "language": "python",
   "name": "python3"
  },
  "language_info": {
   "codemirror_mode": {
    "name": "ipython",
    "version": 3
   },
   "file_extension": ".py",
   "mimetype": "text/x-python",
   "name": "python",
   "nbconvert_exporter": "python",
   "pygments_lexer": "ipython3",
   "version": "3.7.3"
  }
 },
 "nbformat": 4,
 "nbformat_minor": 2
}
