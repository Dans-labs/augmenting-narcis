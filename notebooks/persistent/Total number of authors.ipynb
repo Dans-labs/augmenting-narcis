{
 "cells": [
  {
   "cell_type": "code",
   "execution_count": 1,
   "metadata": {},
   "outputs": [],
   "source": [
    "import json\n",
    "from pymongo import MongoClient"
   ]
  },
  {
   "cell_type": "code",
   "execution_count": 2,
   "metadata": {},
   "outputs": [],
   "source": [
    "# get the mongo client\n",
    "client = MongoClient('mongo')\n",
    "\n",
    "# get the database\n",
    "metadatadb = client.get_database('narcis')\n",
    "\n",
    "# get the metadata collection\n",
    "metacollection = metadatadb.doiboost2017"
   ]
  },
  {
   "cell_type": "code",
   "execution_count": 11,
   "metadata": {},
   "outputs": [],
   "source": [
    "def count_authors(metacollection):\n",
    "    \"\"\"\n",
    "    Count the number of unique authors in the collection\n",
    "    \n",
    "    @param  dict    The metadata collection\n",
    "    @return set     The set of unique author names\n",
    "    @return set     The set of unique author names with a grid id\n",
    "    \"\"\"\n",
    "    \n",
    "    # resulting sets (lists without duplicates)\n",
    "    result = set()\n",
    "    grid_result = set()\n",
    "    \n",
    "    # get the complete collection as an iterable\n",
    "    subset = metacollection.find({})\n",
    "\n",
    "    # loop over the metadata entries\n",
    "    for metadata in subset:\n",
    "        \n",
    "        # get the author information\n",
    "        authors = metadata['authors']\n",
    "\n",
    "        # loop over the authors in the list\n",
    "        for author in authors:\n",
    "            \n",
    "            # get the full name\n",
    "            name = author['fullname']\n",
    "            \n",
    "            # add the name to the set\n",
    "            result.add(name)\n",
    "\n",
    "            # get the affiliation(s) of the author\n",
    "#             affiliations = author['affiliations']\n",
    "\n",
    "#             # only continue if there is information about the affiliation\n",
    "#             if affiliations:\n",
    "\n",
    "#                 # loop over the affiliation information\n",
    "#                 for affiliation in affiliations:\n",
    "\n",
    "#                     # get the identifiers\n",
    "#                     identifiers = affiliation['identifiers']\n",
    "                        \n",
    "#                     # the author needs to have an GRID id\n",
    "#                     if len(identifiers) < 2:\n",
    "#                         continue\n",
    "                        \n",
    "#                     # add the name to the set with GRID ids\n",
    "#                     grid_result.add(name)\n",
    "    \n",
    "    # return the sets\n",
    "    return result, grid_result"
   ]
  },
  {
   "cell_type": "code",
   "execution_count": null,
   "metadata": {
    "scrolled": true
   },
   "outputs": [],
   "source": [
    "result, grid_result = count_authors(metacollection)"
   ]
  },
  {
   "cell_type": "code",
   "execution_count": 10,
   "metadata": {},
   "outputs": [
    {
     "name": "stdout",
     "output_type": "stream",
     "text": [
      "0 3686468\n"
     ]
    }
   ],
   "source": [
    "print(len(result), len(grid_result))"
   ]
  },
  {
   "cell_type": "code",
   "execution_count": null,
   "metadata": {},
   "outputs": [],
   "source": []
  }
 ],
 "metadata": {
  "kernelspec": {
   "display_name": "Python 3",
   "language": "python",
   "name": "python3"
  },
  "language_info": {
   "codemirror_mode": {
    "name": "ipython",
    "version": 3
   },
   "file_extension": ".py",
   "mimetype": "text/x-python",
   "name": "python",
   "nbconvert_exporter": "python",
   "pygments_lexer": "ipython3",
   "version": "3.7.3"
  }
 },
 "nbformat": 4,
 "nbformat_minor": 2
}
