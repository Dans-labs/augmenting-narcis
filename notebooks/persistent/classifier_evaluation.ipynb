{
 "cells": [
  {
   "cell_type": "code",
   "execution_count": 44,
   "metadata": {},
   "outputs": [],
   "source": [
    "from pymongo import MongoClient\n",
    "# import classification function"
   ]
  },
  {
   "cell_type": "code",
   "execution_count": 45,
   "metadata": {},
   "outputs": [],
   "source": [
    "client = MongoClient('mongo')\n",
    "metadatadb = client.get_database('narcis')\n",
    "metacollection = metadatadb.data"
   ]
  },
  {
   "cell_type": "code",
   "execution_count": 46,
   "metadata": {},
   "outputs": [],
   "source": [
    "def evaluation(trials):\n",
    "    # collect positive DOI's using mongodb narcis data\n",
    "    positive_doi_list = []\n",
    "    x = metacollection.find({'identifier': {'$regex':'doi'}}).limit(trials)\n",
    "    for i in x:\n",
    "        for item in i['identifier']:\n",
    "            if 'doi.org' in item:\n",
    "                positive_doi_list.append(item[18:])\n",
    "    # collect negative DOI's using\n",
    "    \n",
    "    # True Positive acceptance score\n",
    "    score = 0\n",
    "    for doi in positive_doi_list:\n",
    "        if classify(doi) == 1:\n",
    "            score += 1\n",
    "    print(\"Positive acceptance score = \", score / len(positive_doi_list))\n",
    "    # True Negative rejection score\n",
    "    score = 0\n",
    "    for doi in positive:\n",
    "        if classify(doi) == 0:\n",
    "            score += 1\n",
    "    print(\"Negative rejection score = \", score / len(negative_doi_list))\n",
    "    return "
   ]
  }
 ],
 "metadata": {
  "kernelspec": {
   "display_name": "Python 3",
   "language": "python",
   "name": "python3"
  },
  "language_info": {
   "codemirror_mode": {
    "name": "ipython",
    "version": 3
   },
   "file_extension": ".py",
   "mimetype": "text/x-python",
   "name": "python",
   "nbconvert_exporter": "python",
   "pygments_lexer": "ipython3",
   "version": "3.7.3"
  }
 },
 "nbformat": 4,
 "nbformat_minor": 2
}
