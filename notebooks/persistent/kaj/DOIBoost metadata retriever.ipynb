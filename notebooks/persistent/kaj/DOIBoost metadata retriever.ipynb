{
 "cells": [
  {
   "cell_type": "markdown",
   "metadata": {},
   "source": [
    "## Import the needed libraries"
   ]
  },
  {
   "cell_type": "code",
   "execution_count": 15,
   "metadata": {},
   "outputs": [],
   "source": [
    "import re\n",
    "from pymongo import MongoClient\n",
    "from elasticsearch import Elasticsearch\n",
    "from habanero import Crossref, counts, cn\n",
    "import pandas as pd\n",
    "import matplotlib.pyplot as plt\n",
    "from matplotlib.ticker import FuncFormatter"
   ]
  },
  {
   "cell_type": "markdown",
   "metadata": {},
   "source": [
    "## Get the mongo collection"
   ]
  },
  {
   "cell_type": "code",
   "execution_count": 16,
   "metadata": {},
   "outputs": [],
   "source": [
    "# get the mongo client\n",
    "client = MongoClient('mongo')\n",
    "\n",
    "# get the database\n",
    "metadatadb = client.get_database('narcis')\n",
    "\n",
    "# get the metadata collection\n",
    "metacollection = metadatadb.data"
   ]
  },
  {
   "cell_type": "code",
   "execution_count": 17,
   "metadata": {},
   "outputs": [],
   "source": [
    "def metadata_retriever(collection, DOI):\n",
    "    \"\"\"\n",
    "    Retrieves metadata when an DOI is provided.\n",
    "\n",
    "    @param  Collection   The metadata collection\n",
    "    @param  string       The DOI\n",
    "    @return dict         The corresponding metadata\n",
    "    \"\"\"\n",
    "    \n",
    "    # find the metadata with the DOI\n",
    "    subset = collection.find({'doi': DOI})\n",
    "    \n",
    "    # return the first item\n",
    "    for item in subset:\n",
    "        return item\n",
    "    \n",
    "    # there was no hit for the given DOI\n",
    "    return None\n",
    "    "
   ]
  },
  {
   "cell_type": "code",
   "execution_count": 18,
   "metadata": {
    "scrolled": true
   },
   "outputs": [],
   "source": [
    "metadata = metadata_retriever(metacollection, 'dhs:oai:nkodata.nl:24')"
   ]
  },
  {
   "cell_type": "code",
   "execution_count": 68,
   "metadata": {},
   "outputs": [
    {
     "data": {
      "text/plain": [
       "1427051"
      ]
     },
     "execution_count": 68,
     "metadata": {},
     "output_type": "execute_result"
    }
   ],
   "source": [
    "metacollection.estimated_document_count()"
   ]
  },
  {
   "cell_type": "code",
   "execution_count": 69,
   "metadata": {},
   "outputs": [
    {
     "data": {
      "text/plain": [
       "['data', 'doiboost2017']"
      ]
     },
     "execution_count": 69,
     "metadata": {},
     "output_type": "execute_result"
    }
   ],
   "source": [
    "metadatadb.list_collection_names()"
   ]
  },
  {
   "cell_type": "code",
   "execution_count": 73,
   "metadata": {},
   "outputs": [
    {
     "data": {
      "text/plain": [
       "3152354"
      ]
     },
     "execution_count": 73,
     "metadata": {},
     "output_type": "execute_result"
    }
   ],
   "source": [
    "metadatadb.doiboost2017.estimated_document_count()"
   ]
  }
 ],
 "metadata": {
  "kernelspec": {
   "display_name": "Python 3",
   "language": "python",
   "name": "python3"
  },
  "language_info": {
   "codemirror_mode": {
    "name": "ipython",
    "version": 3
   },
   "file_extension": ".py",
   "mimetype": "text/x-python",
   "name": "python",
   "nbconvert_exporter": "python",
   "pygments_lexer": "ipython3",
   "version": "3.7.3"
  }
 },
 "nbformat": 4,
 "nbformat_minor": 2
}
