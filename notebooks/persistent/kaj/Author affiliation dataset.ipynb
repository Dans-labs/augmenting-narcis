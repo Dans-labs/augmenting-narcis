{
 "cells": [
  {
   "cell_type": "code",
   "execution_count": 13,
   "metadata": {},
   "outputs": [],
   "source": [
    "# import re\n",
    "import json\n",
    "from pymongo import MongoClient\n",
    "from elasticsearch import Elasticsearch\n",
    "from collections import defaultdict\n",
    "import os\n",
    "# from habanero import Crossref, counts, cn\n",
    "# import pandas as pd\n",
    "# import matplotlib.pyplot as plt\n",
    "# from matplotlib.ticker import FuncFormatter"
   ]
  },
  {
   "cell_type": "code",
   "execution_count": 2,
   "metadata": {},
   "outputs": [],
   "source": [
    "# get the mongo client\n",
    "client = MongoClient('mongo')\n",
    "\n",
    "# get the database\n",
    "metadatadb = client.get_database('narcis')\n",
    "\n",
    "# get the metadata collection\n",
    "metacollection = metadatadb.doiboost2017"
   ]
  },
  {
   "cell_type": "code",
   "execution_count": 3,
   "metadata": {},
   "outputs": [],
   "source": [
    "es_host = \"elasticsnarcis\"\n",
    "es_local = Elasticsearch([es_host])\n",
    "searchindex = 'grid'\n",
    "doctype = 'metadata'\n",
    "es = es_local"
   ]
  },
  {
   "cell_type": "code",
   "execution_count": 27,
   "metadata": {},
   "outputs": [],
   "source": [
    "def dict_to_json(data, filename):\n",
    "\n",
    "    with open(filename, 'a') as fp:\n",
    "        json_data = json.dumps(data)\n",
    "        fp.write(json_data + \"\\n\")"
   ]
  },
  {
   "cell_type": "code",
   "execution_count": 29,
   "metadata": {},
   "outputs": [],
   "source": [
    "def create_author_country_data(metacollection, filename):\n",
    "    \"\"\"\n",
    "    Create a dataset \n",
    "    \n",
    "    @param  dict    The metadata of a paper\n",
    "    @return array   The list of GRID ids    \n",
    "    \"\"\"\n",
    "    \n",
    "    result = {}\n",
    "    \n",
    "    file = open(filename, \"w+\")\n",
    "    file.close()\n",
    "    \n",
    "    subset = metacollection.find()\n",
    "    \n",
    "    # loop over the metadata entries\n",
    "    for metadata in subset:\n",
    "    \n",
    "        # get the date of the paper\n",
    "        date = metadata['issued']\n",
    "        \n",
    "        # get the author information\n",
    "        authors = metadata['authors']\n",
    "\n",
    "        # loop over the authors in the list\n",
    "        for author in authors:\n",
    "            \n",
    "            # get the full name\n",
    "            name = author['fullname']\n",
    "\n",
    "            # get the affiliation(s) of the author\n",
    "            affiliations = author['affiliations']\n",
    "\n",
    "            # only continue if there is information about the affiliation\n",
    "            if affiliations:\n",
    "                \n",
    "                # create an entry for the current author\n",
    "                if not result.get(name,None):\n",
    "                    result[name] = []\n",
    "\n",
    "                # loop over the affiliation information\n",
    "                for affiliation in affiliations:\n",
    "\n",
    "                    # get the identifiers\n",
    "                    identifiers = affiliation['identifiers']\n",
    "                        \n",
    "                    if len(identifiers) < 2:\n",
    "                        continue\n",
    "                        \n",
    "                    # get the value of the second item, which is always the GRID id\n",
    "                    gridID = identifiers[1]['value']\n",
    "                    \n",
    "                    # retrieve the counrty of the authors affiliation in the GRID data\n",
    "                    res = es.search(index=searchindex, doc_type=doctype, \n",
    "                                    body={\"query\": {\"match\": {'ID': \"%s\" % gridID }}})\n",
    "                    country = res['hits']['hits'][0]['_source']['Country']\n",
    "                    \n",
    "                    # add the country and date to the enrty of the author\n",
    "                    dict_to_json({'name': name, 'country': country, 'date': date}, filename)\n",
    "    \n",
    "#     # write the result to a json\n",
    "#     dict_to_json(result, filename)"
   ]
  },
  {
   "cell_type": "code",
   "execution_count": 33,
   "metadata": {},
   "outputs": [],
   "source": [
    "create_author_country_data(metacollection, \"authors.json\")"
   ]
  },
  {
   "cell_type": "code",
   "execution_count": 28,
   "metadata": {},
   "outputs": [],
   "source": [
    "for i in range(10):\n",
    "    dict_to_json({\"test\": i}, \"test.json\")"
   ]
  },
  {
   "cell_type": "code",
   "execution_count": null,
   "metadata": {},
   "outputs": [],
   "source": []
  }
 ],
 "metadata": {
  "kernelspec": {
   "display_name": "Python 3",
   "language": "python",
   "name": "python3"
  },
  "language_info": {
   "codemirror_mode": {
    "name": "ipython",
    "version": 3
   },
   "file_extension": ".py",
   "mimetype": "text/x-python",
   "name": "python",
   "nbconvert_exporter": "python",
   "pygments_lexer": "ipython3",
   "version": "3.7.3"
  }
 },
 "nbformat": 4,
 "nbformat_minor": 2
}
